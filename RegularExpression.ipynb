{
  "nbformat": 4,
  "nbformat_minor": 0,
  "metadata": {
    "colab": {
      "provenance": [],
      "authorship_tag": "ABX9TyNdzMYIeiFKpNOI7uFUPhPt",
      "include_colab_link": true
    },
    "kernelspec": {
      "name": "python3",
      "display_name": "Python 3"
    },
    "language_info": {
      "name": "python"
    }
  },
  "cells": [
    {
      "cell_type": "markdown",
      "metadata": {
        "id": "view-in-github",
        "colab_type": "text"
      },
      "source": [
        "<a href=\"https://colab.research.google.com/github/YoonJinhoon/RegularExpression/blob/main/RegularExpression.ipynb\" target=\"_parent\"><img src=\"https://colab.research.google.com/assets/colab-badge.svg\" alt=\"Open In Colab\"/></a>"
      ]
    },
    {
      "cell_type": "code",
      "execution_count": null,
      "metadata": {
        "id": "jFDmCnFFY_qf"
      },
      "outputs": [],
      "source": [
        "import re"
      ]
    },
    {
      "cell_type": "code",
      "source": [
        "print('\\\\nabc')"
      ],
      "metadata": {
        "colab": {
          "base_uri": "https://localhost:8080/"
        },
        "id": "UGi_ZgjmZBWU",
        "outputId": "50d09a70-9f8a-4f49-cb32-2f4b3600f607"
      },
      "execution_count": null,
      "outputs": [
        {
          "output_type": "stream",
          "name": "stdout",
          "text": [
            "\\nabc\n"
          ]
        }
      ]
    },
    {
      "cell_type": "code",
      "source": [
        "print(r'\\nabc')"
      ],
      "metadata": {
        "colab": {
          "base_uri": "https://localhost:8080/"
        },
        "id": "gcVyWGgnZDBp",
        "outputId": "0e914286-e7d9-4559-b9d7-57f32180c65b"
      },
      "execution_count": null,
      "outputs": [
        {
          "output_type": "stream",
          "name": "stdout",
          "text": [
            "\\nabc\n"
          ]
        }
      ]
    },
    {
      "cell_type": "code",
      "source": [
        "pattern = re.compile(r'abc') # raw string 패턴문자열 -> Pattern 객체\n",
        "mc1 = re.search(pattern, '123abcd') # re.search -> Match 객체\n",
        "print(type(pattern), type(mc1))"
      ],
      "metadata": {
        "colab": {
          "base_uri": "https://localhost:8080/"
        },
        "id": "_K0tAv2iZE-W",
        "outputId": "caff692a-d1d9-4d95-9858-5188d9b8f601"
      },
      "execution_count": null,
      "outputs": [
        {
          "output_type": "stream",
          "name": "stdout",
          "text": [
            "<class 're.Pattern'> <class 're.Match'>\n"
          ]
        }
      ]
    },
    {
      "cell_type": "code",
      "source": [
        "pattern = re.compile(r'abc') # raw string 패턴문자열 -> Pattern 객체\n",
        "\n",
        "mc1 = re.search(pattern, '123abcd') # re.serach -> Match 객체\n",
        "mc2 = re.search(r'abc', '123abcd')\n",
        "mc3 = pattern.search('123abcd')\n",
        "\n",
        "for mc in mc1, mc2, mc3:\n",
        "  print(f'{mc.start()}~{mc.end()}에 {mc.group()}존재')"
      ],
      "metadata": {
        "colab": {
          "base_uri": "https://localhost:8080/"
        },
        "id": "8xoXB_IpZQam",
        "outputId": "08103904-f76c-4b35-d8df-e8a835e58b15"
      },
      "execution_count": null,
      "outputs": [
        {
          "output_type": "stream",
          "name": "stdout",
          "text": [
            "3~6에 abc존재\n",
            "3~6에 abc존재\n",
            "3~6에 abc존재\n"
          ]
        }
      ]
    },
    {
      "cell_type": "code",
      "source": [
        "# [abc]: abc 중 1개 문자\n",
        "# [a-z]: a에서 z까지의 문자 중 1개 문자\n",
        "# [a-zA-Z]: 알파벳 소문자/대문자 중 1개 문자\n",
        "# [^0-9]: ^는 not을 의미함, (십진수) 숫자를 제외한 모든 문자 중 1개 문자"
      ],
      "metadata": {
        "id": "YhXyT1odatCL"
      },
      "execution_count": null,
      "outputs": []
    },
    {
      "cell_type": "code",
      "source": [
        "import re\n",
        "\n",
        "# 첫번째 글자 숫자, 두번째 글자 a/b/c 중 1개 문자, 세번째 글자 c~z 중의 글자가 아닌 1개 문자\n",
        "mc = re.search(r'[0-9][abc][^c-z]', '123abcd')\n",
        "\n",
        "if mc:\n",
        "  print(f'{mc.start()}~{mc.end()}에 {mc.group()}존재')\n",
        "else:\n",
        "  print('문자열에 패턴이 존재하지 않음')"
      ],
      "metadata": {
        "colab": {
          "base_uri": "https://localhost:8080/"
        },
        "id": "aOf1rA74cUHa",
        "outputId": "df53884b-171a-4e45-984a-3d9d945e13b5"
      },
      "execution_count": null,
      "outputs": [
        {
          "output_type": "stream",
          "name": "stdout",
          "text": [
            "2~5에 3ab존재\n"
          ]
        }
      ]
    },
    {
      "cell_type": "code",
      "source": [
        "# 메타 문자: 특별한 용도로 사용되는 문자\n",
        "# x* : x를 0개 이상 사용\n",
        "# x+ : x를 1개 이상 사용\n",
        "# x? : x를 0개 or 1개 사용\n",
        "# x{n} : x를 n개 사용\n",
        "# x{n, k} : x를 n개 이상, k개 이하 사용"
      ],
      "metadata": {
        "id": "tkwdwcnEcurq"
      },
      "execution_count": null,
      "outputs": []
    },
    {
      "cell_type": "code",
      "source": [
        "import re\n",
        "\n",
        "def printMatch(pstr, data):\n",
        "  print(pstr)\n",
        "  for x in data :\n",
        "    mc = re.search(pstr, x)\n",
        "    maxLen = max(len(x) for x in data)\n",
        "    if mc:\n",
        "      print(f'{x:{maxLen}} : {mc.start()}~{mc.end()}에 {mc.group()}존재')\n",
        "    else:\n",
        "      print(f'{x:{maxLen}} : 문자열에 {pstr}패턴이 존재하지 않음')"
      ],
      "metadata": {
        "id": "IkeR1B-ldsvF"
      },
      "execution_count": null,
      "outputs": []
    },
    {
      "cell_type": "code",
      "source": [
        "# 숫자가 0개 이상 사용된 패턴 찾기 (Greedy)\n",
        "dataList = ('', '1', '12', '1234', 'abc', '1a')\n",
        "printMatch(r'[0-9]*', dataList)"
      ],
      "metadata": {
        "colab": {
          "base_uri": "https://localhost:8080/"
        },
        "id": "ED23FPYFeELO",
        "outputId": "28faa9d6-d9e7-44a1-abd9-ccc37b947458"
      },
      "execution_count": null,
      "outputs": [
        {
          "output_type": "stream",
          "name": "stdout",
          "text": [
            "[0-9]*\n",
            "     : 0~0에 존재\n",
            "1    : 0~1에 1존재\n",
            "12   : 0~2에 12존재\n",
            "1234 : 0~4에 1234존재\n",
            "abc  : 0~0에 존재\n",
            "1a   : 0~1에 1존재\n"
          ]
        }
      ]
    },
    {
      "cell_type": "code",
      "source": [
        "# 알파벳 소문자가 1회 이상 사용된 패턴 찾기 (Greedy)\n",
        "dataList = ('c', 'ab', 'abcd', 'a12', '123', 'ABC')\n",
        "printMatch(r'[a-z]+', dataList)"
      ],
      "metadata": {
        "colab": {
          "base_uri": "https://localhost:8080/"
        },
        "id": "CdAYsmnZfjBH",
        "outputId": "f5b60e8b-92d0-4982-cc1e-792eb4d437e2"
      },
      "execution_count": null,
      "outputs": [
        {
          "output_type": "stream",
          "name": "stdout",
          "text": [
            "[a-z]+\n",
            "c    : 0~1에 c존재\n",
            "ab   : 0~2에 ab존재\n",
            "abcd : 0~4에 abcd존재\n",
            "a12  : 0~1에 a존재\n",
            "123  : 문자열에 [a-z]+패턴이 존재하지 않음\n",
            "ABC  : 문자열에 [a-z]+패턴이 존재하지 않음\n"
          ]
        }
      ]
    },
    {
      "cell_type": "code",
      "source": [
        "# 알파벳 대문자가 없거나 1회 사용된 패턴 찾기\n",
        "dataList = ('', 'F', 'AB', '1C2', '123')\n",
        "printMatch(r'[A-Z]?', dataList)"
      ],
      "metadata": {
        "colab": {
          "base_uri": "https://localhost:8080/"
        },
        "id": "Bn5lmvr1hpF8",
        "outputId": "c2f3237b-2b16-427b-fcaf-268f7d6b5f19"
      },
      "execution_count": null,
      "outputs": [
        {
          "output_type": "stream",
          "name": "stdout",
          "text": [
            "[A-Z]?\n",
            "    : 0~0에 존재\n",
            "F   : 0~1에 F존재\n",
            "AB  : 0~1에 A존재\n",
            "1C2 : 0~0에 존재\n",
            "123 : 0~0에 존재\n"
          ]
        }
      ]
    },
    {
      "cell_type": "code",
      "source": [
        "# 숫자가 3회 연속 사용된 패턴 찾기\n",
        "dataList = ('123', '12345', '12', 'ab1234de')\n",
        "printMatch(r'[0-9]{3}', dataList)"
      ],
      "metadata": {
        "colab": {
          "base_uri": "https://localhost:8080/"
        },
        "id": "_7t1E4Jui3Zk",
        "outputId": "ae7a5021-b4fa-4597-a1ef-5ac26ec76344"
      },
      "execution_count": null,
      "outputs": [
        {
          "output_type": "stream",
          "name": "stdout",
          "text": [
            "[0-9]{3}\n",
            "123      : 0~3에 123존재\n",
            "12345    : 0~3에 123존재\n",
            "12       : 문자열에 [0-9]{3}패턴이 존재하지 않음\n",
            "ab1234de : 2~5에 123존재\n"
          ]
        }
      ]
    },
    {
      "cell_type": "code",
      "source": [
        "# 숫자가 2회~4회 연속 사용된 패턴 찾기\n",
        "dataList = ('1', '12', '123', '1234', '12345')\n",
        "printMatch(r'[0-9]{2,4}', dataList)"
      ],
      "metadata": {
        "colab": {
          "base_uri": "https://localhost:8080/"
        },
        "id": "npyP223ujM3A",
        "outputId": "bd69ad10-2172-4ed5-acb8-e37e69dc8c4c"
      },
      "execution_count": null,
      "outputs": [
        {
          "output_type": "stream",
          "name": "stdout",
          "text": [
            "[0-9]{2,4}\n",
            "1     : 문자열에 [0-9]{2,4}패턴이 존재하지 않음\n",
            "12    : 0~2에 12존재\n",
            "123   : 0~3에 123존재\n",
            "1234  : 0~4에 1234존재\n",
            "12345 : 0~4에 1234존재\n"
          ]
        }
      ]
    },
    {
      "cell_type": "code",
      "source": [
        "# 숫자가 3회 이상 연속 사용된 패턴 찾기\n",
        "dataList = ('12', '123', '1234', '12345', 'abc1234ef')\n",
        "printMatch(r'[0-9]{3,}', dataList)"
      ],
      "metadata": {
        "colab": {
          "base_uri": "https://localhost:8080/"
        },
        "id": "DrJMndcOjkbi",
        "outputId": "06da2509-d083-47fe-9bd9-75469dcb4f66"
      },
      "execution_count": null,
      "outputs": [
        {
          "output_type": "stream",
          "name": "stdout",
          "text": [
            "[0-9]{3,}\n",
            "12        : 문자열에 [0-9]{3,}패턴이 존재하지 않음\n",
            "123       : 0~3에 123존재\n",
            "1234      : 0~4에 1234존재\n",
            "12345     : 0~5에 12345존재\n",
            "abc1234ef : 3~7에 1234존재\n"
          ]
        }
      ]
    },
    {
      "cell_type": "code",
      "source": [
        "# 숫자가 3회 이하 연속 사용된 패턴 찾기 (0개 포함)\n",
        "dataList = ('abc', '1', '12', '123', '1234', '12345')\n",
        "printMatch(r'[0-9]{,3}', dataList)"
      ],
      "metadata": {
        "colab": {
          "base_uri": "https://localhost:8080/"
        },
        "id": "rgfPaYbWk1u2",
        "outputId": "e5e177d8-f3f2-4681-cef7-15f78eb70ca2"
      },
      "execution_count": null,
      "outputs": [
        {
          "output_type": "stream",
          "name": "stdout",
          "text": [
            "[0-9]{,3}\n",
            "abc   : 0~0에 존재\n",
            "1     : 0~1에 1존재\n",
            "12    : 0~2에 12존재\n",
            "123   : 0~3에 123존재\n",
            "1234  : 0~3에 123존재\n",
            "12345 : 0~3에 123존재\n"
          ]
        }
      ]
    },
    {
      "cell_type": "code",
      "source": [
        "# 여러 가지 메타 문자\n",
        "\n",
        "# . : 문자 1개 (\\n은 제외)\n",
        "# ^x : 문자열의 시작이 x\n",
        "# x$: 문자열의 끝이 x\n",
        "# x|y : x, y 중 1개 (여러 번 나열 가능)\n",
        "  # x|y|z (x, y, z 중 1개)"
      ],
      "metadata": {
        "id": "gbSoAZGBlICt"
      },
      "execution_count": null,
      "outputs": []
    },
    {
      "cell_type": "code",
      "source": [
        "# a로 시작하고 o로 끝나는데, 사이에 2개의 문자가 있는 패턴 검색\n",
        "dataList = ('a12o', 'abco', 'aBo', 'a123o')\n",
        "printMatch(r'a..o', dataList)"
      ],
      "metadata": {
        "colab": {
          "base_uri": "https://localhost:8080/"
        },
        "id": "Svp18ooLliSU",
        "outputId": "3592f32f-b58d-4286-a0af-03368a260477"
      },
      "execution_count": null,
      "outputs": [
        {
          "output_type": "stream",
          "name": "stdout",
          "text": [
            "a..o\n",
            "a12o  : 0~4에 a12o존재\n",
            "abco  : 0~4에 abco존재\n",
            "aBo   : 문자열에 a..o패턴이 존재하지 않음\n",
            "a123o : 문자열에 a..o패턴이 존재하지 않음\n"
          ]
        }
      ]
    },
    {
      "cell_type": "code",
      "source": [
        "# \\n이 포함된 패턴을 검색하고 싶다면?\n",
        "ret = re.search('.abc', '\\nabc', re.S)\n",
        "print('result of search .abc :', ret)\n",
        "display(ret.group())"
      ],
      "metadata": {
        "colab": {
          "base_uri": "https://localhost:8080/",
          "height": 54
        },
        "id": "k37-wB72lr2-",
        "outputId": "e24c5f72-8bef-48b5-9a9b-f3be677c4a23"
      },
      "execution_count": null,
      "outputs": [
        {
          "output_type": "stream",
          "name": "stdout",
          "text": [
            "result of search .abc : <re.Match object; span=(0, 4), match='\\nabc'>\n"
          ]
        },
        {
          "output_type": "display_data",
          "data": {
            "text/plain": [
              "'\\nabc'"
            ],
            "application/vnd.google.colaboratory.intrinsic+json": {
              "type": "string"
            }
          },
          "metadata": {}
        }
      ]
    },
    {
      "cell_type": "code",
      "source": [
        "# 1개 이상의 알파벳 소문자로 시작되는 패턴에서 '알파벳 소문자' 검색\n",
        "dataList = ('a12', 'kbs', '123a', 'KBstar')\n",
        "printMatch(r'^[a-z]+', dataList)"
      ],
      "metadata": {
        "colab": {
          "base_uri": "https://localhost:8080/"
        },
        "id": "ERLOaFweonr6",
        "outputId": "182bfe30-c5f7-4acd-b1ec-e47ba2719671"
      },
      "execution_count": null,
      "outputs": [
        {
          "output_type": "stream",
          "name": "stdout",
          "text": [
            "^[a-z]+\n",
            "a12    : 0~1에 a존재\n",
            "kbs    : 0~3에 kbs존재\n",
            "123a   : 문자열에 ^[a-z]+패턴이 존재하지 않음\n",
            "KBstar : 문자열에 ^[a-z]+패턴이 존재하지 않음\n"
          ]
        }
      ]
    },
    {
      "cell_type": "code",
      "source": [
        "# 1개 이상의 숫자로 끝나는 패턴에서 '숫자' 검색\n",
        "dataList = ('ab123', 'UP3', 'a12b')\n",
        "printMatch(r'[0-9]+$', dataList)"
      ],
      "metadata": {
        "colab": {
          "base_uri": "https://localhost:8080/"
        },
        "id": "XpWCcmSJ3bkr",
        "outputId": "09a3a12f-4b19-467c-a5c8-3bdab3f3b7e2"
      },
      "execution_count": null,
      "outputs": [
        {
          "output_type": "stream",
          "name": "stdout",
          "text": [
            "[0-9]+$\n",
            "ab123 : 2~5에 123존재\n",
            "UP3   : 2~3에 3존재\n",
            "a12b  : 문자열에 [0-9]+$패턴이 존재하지 않음\n"
          ]
        }
      ]
    },
    {
      "cell_type": "code",
      "source": [
        "# abc 또는 123 패턴 찾기\n",
        "dataList = ('abcdef', '-1234-', '12431', 'axybz')\n",
        "printMatch(r'abc|123', dataList) # | => or"
      ],
      "metadata": {
        "colab": {
          "base_uri": "https://localhost:8080/"
        },
        "id": "NOle2duD341X",
        "outputId": "34c4ee3e-5410-41c2-c324-76640c7219f5"
      },
      "execution_count": null,
      "outputs": [
        {
          "output_type": "stream",
          "name": "stdout",
          "text": [
            "abc|123\n",
            "abcdef : 0~3에 abc존재\n",
            "-1234- : 1~4에 123존재\n",
            "12431  : 문자열에 abc|123패턴이 존재하지 않음\n",
            "axybz  : 문자열에 abc|123패턴이 존재하지 않음\n"
          ]
        }
      ]
    },
    {
      "cell_type": "code",
      "source": [
        "# 그룹 관련 메타 문자\n",
        "\n",
        "# (x) : () 안의 내용을 그룹화 하고 내용이 캡처됌, 그룹 번호 1번부터 부여\n",
        "# \\1...\\99 : 캡처된 그룹 1번~99번 사용\n",
        "# (?:x) : 그룹으로 인정되지만, 캡처 및 그룹번호 부여되지 않음\n",
        "# (?P<name>x) : () 안의 내용을 그룹화하고 내용을 캡처함. 그룹의 이름을 지정.\n",
        "  # 사용시 'name'으로 사용 (예) match.group('name')\n",
        "  # 그룹 번호로도 사용할 수 있음 (위치에 따른 번호)\n",
        "# 캡처: 저장되는 것을 뜻하며, 후에 그룹번호를 이용해 꺼내서 이용 가능함\n",
        "# 다른 메타 문자 종류는 re.__doc__ 를 사용하도록 한다"
      ],
      "metadata": {
        "id": "FtgxEG8i4FRS"
      },
      "execution_count": null,
      "outputs": []
    },
    {
      "cell_type": "code",
      "source": [
        "import re\n",
        "# 1. 숫자 그룹 => 숫자 3글자\n",
        "# 2. 구분 기호 그룹 => : 또는 - 또는 공백 문자가 있을 수 있으며, 그룹 지정\n",
        "# 3. 그룹번호 부여하지 않는 숫자 그룹 => 숫자 3글자 또는 4글자\n",
        "# 4. 2번에서 사용된 구분 기호 => 첫 번째 구분 기호와 동일한 것을 이용함\n",
        "# 5. 이름을 pnum으로 갖는 숫자 그룹 => 숫자 4글자\n",
        "\n",
        "pattern = re.compile(r'([0-9]{3})(:|-| )(?:[0-9]{3,4})\\2(?P<pnum>[0-9]{4})')   # '010' '-'\n",
        "mc = re.search(pattern, '010-123-4567')\n",
        "if mc:\n",
        "  print('{}~{}에 {}존재'.format(mc.start(), mc.end(), mc.group()))\n",
        "  for x in mc.groups():\n",
        "    print(x)\n",
        "  print(mc.group(3), mc.group('pnum'))\n",
        "else:\n",
        "  print('문자열에 패턴이 존재하지 않음')"
      ],
      "metadata": {
        "colab": {
          "base_uri": "https://localhost:8080/"
        },
        "id": "JEH5n87-44Wi",
        "outputId": "0cef7b78-f1fd-4ec6-edab-803787042377"
      },
      "execution_count": null,
      "outputs": [
        {
          "output_type": "stream",
          "name": "stdout",
          "text": [
            "0~12에 010-123-4567존재\n",
            "010\n",
            "-\n",
            "4567\n",
            "4567 4567\n"
          ]
        }
      ]
    },
    {
      "cell_type": "code",
      "source": [
        "print(re.__doc__)"
      ],
      "metadata": {
        "colab": {
          "base_uri": "https://localhost:8080/"
        },
        "id": "UKSsr4RK5zhZ",
        "outputId": "4514b942-a222-413c-9f94-e4e2c626092c"
      },
      "execution_count": null,
      "outputs": [
        {
          "output_type": "stream",
          "name": "stdout",
          "text": [
            "Support for regular expressions (RE).\n",
            "\n",
            "This module provides regular expression matching operations similar to\n",
            "those found in Perl.  It supports both 8-bit and Unicode strings; both\n",
            "the pattern and the strings being processed can contain null bytes and\n",
            "characters outside the US ASCII range.\n",
            "\n",
            "Regular expressions can contain both special and ordinary characters.\n",
            "Most ordinary characters, like \"A\", \"a\", or \"0\", are the simplest\n",
            "regular expressions; they simply match themselves.  You can\n",
            "concatenate ordinary characters, so last matches the string 'last'.\n",
            "\n",
            "The special characters are:\n",
            "    \".\"      Matches any character except a newline.\n",
            "    \"^\"      Matches the start of the string.\n",
            "    \"$\"      Matches the end of the string or just before the newline at\n",
            "             the end of the string.\n",
            "    \"*\"      Matches 0 or more (greedy) repetitions of the preceding RE.\n",
            "             Greedy means that it will match as many repetitions as possible.\n",
            "    \"+\"      Matches 1 or more (greedy) repetitions of the preceding RE.\n",
            "    \"?\"      Matches 0 or 1 (greedy) of the preceding RE.\n",
            "    *?,+?,?? Non-greedy versions of the previous three special characters.\n",
            "    {m,n}    Matches from m to n repetitions of the preceding RE.\n",
            "    {m,n}?   Non-greedy version of the above.\n",
            "    \"\\\\\"     Either escapes special characters or signals a special sequence.\n",
            "    []       Indicates a set of characters.\n",
            "             A \"^\" as the first character indicates a complementing set.\n",
            "    \"|\"      A|B, creates an RE that will match either A or B.\n",
            "    (...)    Matches the RE inside the parentheses.\n",
            "             The contents can be retrieved or matched later in the string.\n",
            "    (?aiLmsux) The letters set the corresponding flags defined below.\n",
            "    (?:...)  Non-grouping version of regular parentheses.\n",
            "    (?P<name>...) The substring matched by the group is accessible by name.\n",
            "    (?P=name)     Matches the text matched earlier by the group named name.\n",
            "    (?#...)  A comment; ignored.\n",
            "    (?=...)  Matches if ... matches next, but doesn't consume the string.\n",
            "    (?!...)  Matches if ... doesn't match next.\n",
            "    (?<=...) Matches if preceded by ... (must be fixed length).\n",
            "    (?<!...) Matches if not preceded by ... (must be fixed length).\n",
            "    (?(id/name)yes|no) Matches yes pattern if the group with id/name matched,\n",
            "                       the (optional) no pattern otherwise.\n",
            "\n",
            "The special sequences consist of \"\\\\\" and a character from the list\n",
            "below.  If the ordinary character is not on the list, then the\n",
            "resulting RE will match the second character.\n",
            "    \\number  Matches the contents of the group of the same number.\n",
            "    \\A       Matches only at the start of the string.\n",
            "    \\Z       Matches only at the end of the string.\n",
            "    \\b       Matches the empty string, but only at the start or end of a word.\n",
            "    \\B       Matches the empty string, but not at the start or end of a word.\n",
            "    \\d       Matches any decimal digit; equivalent to the set [0-9] in\n",
            "             bytes patterns or string patterns with the ASCII flag.\n",
            "             In string patterns without the ASCII flag, it will match the whole\n",
            "             range of Unicode digits.\n",
            "    \\D       Matches any non-digit character; equivalent to [^\\d].\n",
            "    \\s       Matches any whitespace character; equivalent to [ \\t\\n\\r\\f\\v] in\n",
            "             bytes patterns or string patterns with the ASCII flag.\n",
            "             In string patterns without the ASCII flag, it will match the whole\n",
            "             range of Unicode whitespace characters.\n",
            "    \\S       Matches any non-whitespace character; equivalent to [^\\s].\n",
            "    \\w       Matches any alphanumeric character; equivalent to [a-zA-Z0-9_]\n",
            "             in bytes patterns or string patterns with the ASCII flag.\n",
            "             In string patterns without the ASCII flag, it will match the\n",
            "             range of Unicode alphanumeric characters (letters plus digits\n",
            "             plus underscore).\n",
            "             With LOCALE, it will match the set [0-9_] plus characters defined\n",
            "             as letters for the current locale.\n",
            "    \\W       Matches the complement of \\w.\n",
            "    \\\\       Matches a literal backslash.\n",
            "\n",
            "This module exports the following functions:\n",
            "    match     Match a regular expression pattern to the beginning of a string.\n",
            "    fullmatch Match a regular expression pattern to all of a string.\n",
            "    search    Search a string for the presence of a pattern.\n",
            "    sub       Substitute occurrences of a pattern found in a string.\n",
            "    subn      Same as sub, but also return the number of substitutions made.\n",
            "    split     Split a string by the occurrences of a pattern.\n",
            "    findall   Find all occurrences of a pattern in a string.\n",
            "    finditer  Return an iterator yielding a Match object for each match.\n",
            "    compile   Compile a pattern into a Pattern object.\n",
            "    purge     Clear the regular expression cache.\n",
            "    escape    Backslash all non-alphanumerics in a string.\n",
            "\n",
            "Each function other than purge and escape can take an optional 'flags' argument\n",
            "consisting of one or more of the following module constants, joined by \"|\".\n",
            "A, L, and U are mutually exclusive.\n",
            "    A  ASCII       For string patterns, make \\w, \\W, \\b, \\B, \\d, \\D\n",
            "                   match the corresponding ASCII character categories\n",
            "                   (rather than the whole Unicode categories, which is the\n",
            "                   default).\n",
            "                   For bytes patterns, this flag is the only available\n",
            "                   behaviour and needn't be specified.\n",
            "    I  IGNORECASE  Perform case-insensitive matching.\n",
            "    L  LOCALE      Make \\w, \\W, \\b, \\B, dependent on the current locale.\n",
            "    M  MULTILINE   \"^\" matches the beginning of lines (after a newline)\n",
            "                   as well as the string.\n",
            "                   \"$\" matches the end of lines (before a newline) as well\n",
            "                   as the end of the string.\n",
            "    S  DOTALL      \".\" matches any character at all, including the newline.\n",
            "    X  VERBOSE     Ignore whitespace and comments for nicer looking RE's.\n",
            "    U  UNICODE     For compatibility only. Ignored for string patterns (it\n",
            "                   is the default), and forbidden for bytes patterns.\n",
            "\n",
            "This module also defines an exception 'error'.\n",
            "\n",
            "\n"
          ]
        }
      ]
    },
    {
      "cell_type": "code",
      "source": [
        "# Special Sequences 1\n",
        "\n",
        "# \\d: 숫자 한 개 == [0-9]\n",
        "# \\D: \\d가 아닌 문자 1개 == [^0-9]\n",
        "# \\w: 숫자 or 문자 or _ == [가-힣a-zA-Z0-9_] (이름 작성에 사용 가능한 문자)\n",
        "# \\W: \\w가 아닌 문자 == [^가-힣a-zA-Z0-9_]\n",
        "# \\s: WhiteSpace 문자 == [\\t\\n\\r\\f\\v] (space 포함)\n",
        "# \\S: \\s가 아닌 문자 == [^\\t\\n\\r\\f\\v]\n",
        "# \\^: 메타문자 '^'를 일반 문자로 취급\n",
        "# \\A: 문자열의 시작부터 매치되는 문자열을 찾음\n",
        "# \\Z: 문자열의 끝부터 매치되는 문자열을 찾음\n",
        "    # \\A, \\Z는 여러 줄 문자열도 1개의 문자열로 취급\n",
        "    # cf) ^ $ : 여러 줄 문자열인 경우, 옵션에 따라 여러 줄을 각 줄로 나누어서 사용,\n",
        "    #           하나의 문자열로 사용"
      ],
      "metadata": {
        "id": "maMtO8Pa56kh"
      },
      "execution_count": null,
      "outputs": []
    },
    {
      "cell_type": "code",
      "source": [
        "# 숫자 1개 +\n",
        "# 이름 작성에 사용 가능한 문자 1개 +\n",
        "# 이름 작성에 사용 불가한 문자 1개 +\n",
        "# WhiteSpace문자(=공백문자) 1개 +\n",
        "# 숫자 아닌 문자 1개\n",
        "dataList = ('123_* ab',)\n",
        "printMatch(r'\\d\\w\\W\\s\\D', dataList)"
      ],
      "metadata": {
        "colab": {
          "base_uri": "https://localhost:8080/"
        },
        "id": "Kmbd9_QvGI6o",
        "outputId": "35abf8bb-f6e3-447b-96a5-14e0077727ba"
      },
      "execution_count": null,
      "outputs": [
        {
          "output_type": "stream",
          "name": "stdout",
          "text": [
            "\\d\\w\\W\\s\\D\n",
            "123_* ab : 2~7에 3_* a존재\n"
          ]
        }
      ]
    },
    {
      "cell_type": "code",
      "source": [
        "# 숫자 1글자 이상 +\n",
        "# (공백문자 0개 or 1개) +\n",
        "# ^ +\n",
        "# (공백문자 0개 이상) +\n",
        "# 숫자 1글자 이상\n",
        "\n",
        "dataList = ('a = 12^3 * 4', '2 ^345', '8 ^ 2')\n",
        "printMatch(r'\\d+\\s?\\^\\s*\\d+', dataList)\n"
      ],
      "metadata": {
        "colab": {
          "base_uri": "https://localhost:8080/"
        },
        "id": "N7XoKnF6Htlw",
        "outputId": "b9694186-5c84-4493-ee3e-60471b66075f"
      },
      "execution_count": null,
      "outputs": [
        {
          "output_type": "stream",
          "name": "stdout",
          "text": [
            "\\d+\\s?\\^\\s*\\d+\n",
            "a = 12^3 * 4 : 4~8에 12^3존재\n",
            "2 ^345       : 0~6에 2 ^345존재\n",
            "8 ^ 2        : 0~5에 8 ^ 2존재\n"
          ]
        }
      ]
    },
    {
      "cell_type": "code",
      "source": [
        "import re\n",
        "\n",
        "data = '''There is no mistaking\n",
        "There is a real book\n",
        "It is like falling in love\n",
        "A true love'''"
      ],
      "metadata": {
        "id": "cJRDlWurI-eV"
      },
      "execution_count": null,
      "outputs": []
    },
    {
      "cell_type": "code",
      "source": [
        "print(re.search(r'^There', data))\n",
        "print(re.search(r'love$', data))\n",
        "print(re.search(r'^There', data, re.M))\n",
        "print(re.search(r'love$', data, re.M))"
      ],
      "metadata": {
        "colab": {
          "base_uri": "https://localhost:8080/"
        },
        "id": "pvq7gJLjK10H",
        "outputId": "b34c16cb-666b-4bfd-b10b-7c7a311b5e58"
      },
      "execution_count": null,
      "outputs": [
        {
          "output_type": "stream",
          "name": "stdout",
          "text": [
            "<re.Match object; span=(0, 5), match='There'>\n",
            "<re.Match object; span=(77, 81), match='love'>\n",
            "<re.Match object; span=(0, 5), match='There'>\n",
            "<re.Match object; span=(65, 69), match='love'>\n"
          ]
        }
      ]
    },
    {
      "cell_type": "code",
      "source": [
        "len(data)"
      ],
      "metadata": {
        "colab": {
          "base_uri": "https://localhost:8080/"
        },
        "id": "0jlRiACkMkCB",
        "outputId": "0a28db7f-6f60-4906-a67c-cfb258e46e4e"
      },
      "execution_count": null,
      "outputs": [
        {
          "output_type": "execute_result",
          "data": {
            "text/plain": [
              "81"
            ]
          },
          "metadata": {},
          "execution_count": 50
        }
      ]
    },
    {
      "cell_type": "code",
      "source": [
        "print(re.search(r'\\AThere', data))\n",
        "print(re.search(r'love\\Z', data))\n",
        "print(re.search(r'\\AThere', data, re.M))\n",
        "print(re.search(r'love\\Z', data, re.M))"
      ],
      "metadata": {
        "colab": {
          "base_uri": "https://localhost:8080/"
        },
        "id": "IlF8Qa9GK_hF",
        "outputId": "b0d6c379-74c7-49be-89df-79e3ced7e7b2"
      },
      "execution_count": null,
      "outputs": [
        {
          "output_type": "stream",
          "name": "stdout",
          "text": [
            "<re.Match object; span=(0, 5), match='There'>\n",
            "<re.Match object; span=(77, 81), match='love'>\n",
            "<re.Match object; span=(0, 5), match='There'>\n",
            "<re.Match object; span=(77, 81), match='love'>\n"
          ]
        }
      ]
    },
    {
      "cell_type": "code",
      "source": [
        "print(re.findall(r'^There', data))\n",
        "print(re.findall(r'love$', data))\n",
        "print(re.findall(r'^There', data, re.M))\n",
        "print(re.findall(r'love$', data, re.M))"
      ],
      "metadata": {
        "colab": {
          "base_uri": "https://localhost:8080/"
        },
        "id": "vFIZOvNVNpGG",
        "outputId": "21904d15-0361-4cb7-bb1b-a9a382cc3407"
      },
      "execution_count": null,
      "outputs": [
        {
          "output_type": "stream",
          "name": "stdout",
          "text": [
            "['There']\n",
            "['love']\n",
            "['There', 'There']\n",
            "['love', 'love']\n"
          ]
        }
      ]
    },
    {
      "cell_type": "code",
      "source": [
        "print(re.findall(r'\\AThere', data))\n",
        "print(re.findall(r'love\\Z', data))\n",
        "print(re.findall(r'\\AThere', data, re.M))\n",
        "print(re.findall(r'love\\Z', data, re.M))"
      ],
      "metadata": {
        "colab": {
          "base_uri": "https://localhost:8080/"
        },
        "id": "-EyHpzMMYl17",
        "outputId": "603ab490-1e4f-4912-8c9a-bdf205acf9ff"
      },
      "execution_count": null,
      "outputs": [
        {
          "output_type": "stream",
          "name": "stdout",
          "text": [
            "['There']\n",
            "['love']\n",
            "['There']\n",
            "['love']\n"
          ]
        }
      ]
    },
    {
      "cell_type": "code",
      "source": [
        "# Special Sequences 2\n",
        "\n",
        "# matches empty string\n",
        "# \\b: boundry - \\w와 \\W 사이를 의미함(단어의 경계)\n",
        "    # 단어의 시작 또는 끝에서 매치되는 것을 찾음\n",
        "    # 맨 앞에 사용할 경우, 단어의 시작\n",
        "    # 맨 뒤에 사용할 경우, 단어의 끝\n",
        "# \\B: boundry 가 아닌 것\n",
        "    # 단어의 시작 또는 끝이 아닌 곳에서 매치되는 것을 찾음\n",
        "    # 맨 앞에 사용할 경우, 단어의 시작이 아닌 것\n",
        "    # 맨 뒤에 사용할 경우, 단어의 끝이 아닌 것\n",
        "# 특이사항\n",
        "    # \\b, \\B는 패턴의 맨 앞, 뒤에 사용함\n",
        "    # \\b, \\B는 \\w(워드문자)가 아닌 문자를 구분문자로 취급함"
      ],
      "metadata": {
        "id": "Bo4i_l6FZIDf"
      },
      "execution_count": null,
      "outputs": []
    },
    {
      "cell_type": "code",
      "source": [
        "import re\n",
        "\n",
        "def printMatch2(pstr, data):\n",
        "  mc = re.finditer(pstr, data)\n",
        "  print(pstr)\n",
        "  print( [[x.span(), x.group()] for x in mc ])"
      ],
      "metadata": {
        "id": "dTZInruwddH6"
      },
      "execution_count": null,
      "outputs": []
    },
    {
      "cell_type": "code",
      "source": [
        "data = 'picked pack opic? 123pie 456.pie pickeds.'\n",
        "\n",
        "# pi가 포함된 모든 문자열 : r'pi'\n",
        "# 단어의 시작이 pi인 것 : r'\\bpi'\n",
        "\n",
        "print(data)\n",
        "printMatch2(r'pi', data)\n",
        "printMatch2(r'\\bpi', data)"
      ],
      "metadata": {
        "colab": {
          "base_uri": "https://localhost:8080/"
        },
        "id": "VVe8ZKKpeLRS",
        "outputId": "51cf0f92-bd5f-4b5a-daea-32e6cf01cea5"
      },
      "execution_count": null,
      "outputs": [
        {
          "output_type": "stream",
          "name": "stdout",
          "text": [
            "picked pack opic? 123pie 456.pie pickeds.\n",
            "pi\n",
            "[[(0, 2), 'pi'], [(13, 15), 'pi'], [(21, 23), 'pi'], [(29, 31), 'pi'], [(33, 35), 'pi']]\n",
            "\\bpi\n",
            "[[(0, 2), 'pi'], [(29, 31), 'pi'], [(33, 35), 'pi']]\n"
          ]
        }
      ]
    },
    {
      "cell_type": "code",
      "source": [
        "data = 'picked peck opic? picked. pickeds.'\n",
        "print(data)\n",
        "# p로 시작하는 단어이면서, ed로 끝나는 모든 것 - r'\\bp\\w+ed'\n",
        "# p로 시작하고, ed로 끝나는 단어 - r'\\bp\\w+ed\\b'\n",
        "\n",
        "# 경계 + p + 워드문자 1개 이상 + ed\n",
        "printMatch2(r'\\bp\\w+ed', data)\n",
        "# 경계 + p + 워드문자 1개 이상 + ed + 경계\n",
        "printMatch2(r'\\bp\\w+ed\\b', data)"
      ],
      "metadata": {
        "colab": {
          "base_uri": "https://localhost:8080/"
        },
        "id": "QQfso0T-fxCa",
        "outputId": "6a920ddc-8127-4ff9-9d3c-2efc4d89e253"
      },
      "execution_count": null,
      "outputs": [
        {
          "output_type": "stream",
          "name": "stdout",
          "text": [
            "picked peck opic? picked. pickeds.\n",
            "\\bp\\w+ed\n",
            "[[(0, 6), 'picked'], [(18, 24), 'picked'], [(26, 32), 'picked']]\n",
            "\\bp\\w+ed\\b\n",
            "[[(0, 6), 'picked'], [(18, 24), 'picked']]\n"
          ]
        }
      ]
    },
    {
      "cell_type": "code",
      "source": [
        "data = 'picked peck opic? 123.pie pickeds. a....bcd'\n",
        "print(data)\n",
        "\n",
        "# 경계가 아닌 것 + 워드 문자 1개 이상 + 경계가 아닌 것\n",
        "printMatch2(r'\\B\\w+\\B', data)"
      ],
      "metadata": {
        "colab": {
          "base_uri": "https://localhost:8080/"
        },
        "id": "Bfv2ulyym2-9",
        "outputId": "d05b72e3-0d9f-4804-b372-555c7fbdd3ee"
      },
      "execution_count": null,
      "outputs": [
        {
          "output_type": "stream",
          "name": "stdout",
          "text": [
            "picked peck opic? 123.pie pickeds. a....bcd\n",
            "\\B\\w+\\B\n",
            "[[(1, 5), 'icke'], [(8, 10), 'ec'], [(13, 15), 'pi'], [(19, 20), '2'], [(23, 24), 'i'], [(27, 32), 'icked'], [(41, 42), 'c']]\n"
          ]
        }
      ]
    },
    {
      "cell_type": "code",
      "source": [
        "data = 'picked peck pickled opic? 123pied edps'\n",
        "\n",
        "# 경계가 아닌 것 + 문자 1개 이상\n",
        "# 경계가 아닌 것 + ed 로 끝나는 것\n",
        "\n",
        "printMatch2(r'\\B\\w+', data)\n",
        "printMatch2(r'\\Bed', data)"
      ],
      "metadata": {
        "colab": {
          "base_uri": "https://localhost:8080/"
        },
        "id": "z6Zah0z2p2g0",
        "outputId": "654b3d72-be79-4ce7-9fb1-417b3263bb33"
      },
      "execution_count": null,
      "outputs": [
        {
          "output_type": "stream",
          "name": "stdout",
          "text": [
            "\\B\\w+\n",
            "[[(1, 6), 'icked'], [(8, 11), 'eck'], [(13, 19), 'ickled'], [(21, 24), 'pic'], [(27, 33), '23pied'], [(35, 38), 'dps']]\n",
            "\\Bed\n",
            "[[(4, 6), 'ed'], [(17, 19), 'ed'], [(31, 33), 'ed']]\n"
          ]
        }
      ]
    },
    {
      "cell_type": "code",
      "source": [
        "data = 'picked peck pickled opic? 123pied'\n",
        "\n",
        "# 문자 1개 이상 + 경계가 아닌 것\n",
        "# pic + 경계가 아닌 것\n",
        "\n",
        "printMatch2(r'\\w+\\B', data)\n",
        "printMatch2(r'pic\\B', data)"
      ],
      "metadata": {
        "colab": {
          "base_uri": "https://localhost:8080/"
        },
        "id": "uQHb0dI3rVkl",
        "outputId": "f9dadca9-3229-4074-c925-9a3236ce5df8"
      },
      "execution_count": null,
      "outputs": [
        {
          "output_type": "stream",
          "name": "stdout",
          "text": [
            "\\w+\\B\n",
            "[[(0, 5), 'picke'], [(7, 10), 'pec'], [(12, 18), 'pickle'], [(20, 23), 'opi'], [(26, 32), '123pie']]\n",
            "pic\\B\n",
            "[[(0, 3), 'pic'], [(12, 15), 'pic']]\n"
          ]
        }
      ]
    },
    {
      "cell_type": "code",
      "source": [
        "data = 'picked opic? 123.pie are good!! apickeds.'\n",
        "print(data)\n",
        "\n",
        "# 단어인데, word 문자 1개 이상으로 시작하고, 그 뒤로 [!?.] 중 1개 이상이 포함.\n",
        "printMatch2(r'\\b\\w+[!?.]+', data)"
      ],
      "metadata": {
        "colab": {
          "base_uri": "https://localhost:8080/"
        },
        "id": "-DbnhjV2r_ka",
        "outputId": "9db33418-0873-4523-aacf-2444fb38f78c"
      },
      "execution_count": null,
      "outputs": [
        {
          "output_type": "stream",
          "name": "stdout",
          "text": [
            "picked opic? 123.pie are good!! apickeds.\n",
            "\\b\\w+[!?.]+\n",
            "[[(7, 12), 'opic?'], [(13, 17), '123.'], [(25, 31), 'good!!'], [(32, 41), 'apickeds.']]\n"
          ]
        }
      ]
    },
    {
      "cell_type": "code",
      "source": [
        "data = 'picked opic? 123.pie are good!! apickeds.'\n",
        "\n",
        "# 단어경계 + word 문자 1개 이상 + 그 뒤로 [!?.] 중 1개 이상이 포함 + 단어경계 아님 (끝나지 않음)\n",
        "# [!?.] -> 단어문자가 아님\n",
        "\n",
        "printMatch2(r'\\b\\w+[!?.]+\\B', data)"
      ],
      "metadata": {
        "colab": {
          "base_uri": "https://localhost:8080/"
        },
        "id": "cxpuDt05sfpo",
        "outputId": "e8e8590a-8a13-4134-9270-ef835d4e1635"
      },
      "execution_count": null,
      "outputs": [
        {
          "output_type": "stream",
          "name": "stdout",
          "text": [
            "\\b\\w+[!?.]+\\B\n",
            "[[(7, 12), 'opic?'], [(25, 31), 'good!!'], [(32, 41), 'apickeds.']]\n"
          ]
        }
      ]
    },
    {
      "cell_type": "code",
      "source": [
        "# so를 3~5회 반복 - greedy (큰 횟수)\n",
        "data = ('sososo', 'sosososo', 'sososososo', 'soso')\n",
        "printMatch(r'(so){3,5}', data)"
      ],
      "metadata": {
        "colab": {
          "base_uri": "https://localhost:8080/"
        },
        "id": "fOEzz31wa8gt",
        "outputId": "f99a90b2-813e-4f2f-9d7a-64f42b8a8384"
      },
      "execution_count": null,
      "outputs": [
        {
          "output_type": "stream",
          "name": "stdout",
          "text": [
            "(so){3,5}\n",
            "sososo     : 0~6에 sososo존재\n",
            "sosososo   : 0~8에 sosososo존재\n",
            "sososososo : 0~10에 sososososo존재\n",
            "soso       : 문자열에 (so){3,5}패턴이 존재하지 않음\n"
          ]
        }
      ]
    },
    {
      "cell_type": "code",
      "source": [
        "# so를 3~5회 반복 - non-greedy (작은 횟수)\n",
        "data = ('sososo', 'sosososo', 'sososososo', 'soso')\n",
        "printMatch(r'(so){3,5}?', data)"
      ],
      "metadata": {
        "colab": {
          "base_uri": "https://localhost:8080/"
        },
        "id": "ZbjN0tPaa8oZ",
        "outputId": "fb4c7ab3-819d-41e9-e69d-a90adc585c35"
      },
      "execution_count": null,
      "outputs": [
        {
          "output_type": "stream",
          "name": "stdout",
          "text": [
            "(so){3,5}?\n",
            "sososo     : 0~6에 sososo존재\n",
            "sosososo   : 0~6에 sososo존재\n",
            "sososososo : 0~6에 sososo존재\n",
            "soso       : 문자열에 (so){3,5}?패턴이 존재하지 않음\n"
          ]
        }
      ]
    },
    {
      "cell_type": "code",
      "source": [
        "# sa 또는 so 를 3~4회 반복\n",
        "data = ('sasasa', 'sososo', 'sasosa', 'sososososo', 'sasasasaso', 'soso')\n",
        "printMatch(r'(sa|so){3,4}', data)"
      ],
      "metadata": {
        "colab": {
          "base_uri": "https://localhost:8080/"
        },
        "id": "hoGgU-Nua8rt",
        "outputId": "1d8c04cd-6c23-40b2-de21-fc6f02b37cf2"
      },
      "execution_count": null,
      "outputs": [
        {
          "output_type": "stream",
          "name": "stdout",
          "text": [
            "(sa|so){3,4}\n",
            "sasasa     : 0~6에 sasasa존재\n",
            "sososo     : 0~6에 sososo존재\n",
            "sasosa     : 0~6에 sasosa존재\n",
            "sososososo : 0~8에 sosososo존재\n",
            "sasasasaso : 0~8에 sasasasa존재\n",
            "soso       : 문자열에 (sa|so){3,4}패턴이 존재하지 않음\n"
          ]
        }
      ]
    },
    {
      "cell_type": "code",
      "source": [
        "# 숫자 1개 이상으로 이루어진 문자열 (숫자만으로 이루어진 문자열)\n",
        "data = ('1', '12', '1234', '12ab34', '12 34')\n",
        "printMatch(r'^\\d+$', data)"
      ],
      "metadata": {
        "colab": {
          "base_uri": "https://localhost:8080/"
        },
        "id": "F0CcDIHza8uH",
        "outputId": "8bfb1674-11a7-47b0-dc9d-0c8af853dc7e"
      },
      "execution_count": null,
      "outputs": [
        {
          "output_type": "stream",
          "name": "stdout",
          "text": [
            "^\\d+$\n",
            "1      : 0~1에 1존재\n",
            "12     : 0~2에 12존재\n",
            "1234   : 0~4에 1234존재\n",
            "12ab34 : 문자열에 ^\\d+$패턴이 존재하지 않음\n",
            "12 34  : 문자열에 ^\\d+$패턴이 존재하지 않음\n"
          ]
        }
      ]
    },
    {
      "cell_type": "code",
      "source": [
        "# 탐색 함수\n",
        "  # re.findall(패턴, 문자열)\n",
        "    # 매치하는 모든 패턴을 겹치지 않게 탐색하여 list 객체 반환\n",
        "  # re.finditer(패턴, 문자열)\n",
        "    # findall()과 같은 동작이고, Match iterator 객체 반환\n",
        "  # re.search(패턴, 문자열)\n",
        "    # 문자열의 <임의 지점>에서 패턴과 매치하는 텍스트 탐색, Match 객체 반환\n",
        "  # re.match(패턴, 문자열)\n",
        "    # 문자열의 <시작 지점>에서 패턴과 매치하는 텍스트 탐색, Match 객체 반환\n",
        "  # re.fullmatch(패턴, 문자열)\n",
        "    # 문자열과 패턴이 전체 매치하는 텍스트 탐색, Match 객체 반환\n",
        "  # 매칭되는 것이 없으면 None을 반환함."
      ],
      "metadata": {
        "id": "ddjNKqnBjGNK"
      },
      "execution_count": null,
      "outputs": []
    },
    {
      "cell_type": "code",
      "source": [
        "# findall\n",
        "import re\n",
        "\n",
        "ret = re.findall(r'wow', 'wowowowow')\n",
        "print(type(ret))\n",
        "for t in ret:\n",
        "  print(f\"Matched : {t}\")"
      ],
      "metadata": {
        "colab": {
          "base_uri": "https://localhost:8080/"
        },
        "id": "a-ktbPTWjz31",
        "outputId": "193a347c-1fe2-4b4b-9ee8-c9870617ee9b"
      },
      "execution_count": null,
      "outputs": [
        {
          "output_type": "stream",
          "name": "stdout",
          "text": [
            "<class 'list'>\n",
            "Matched : wow\n",
            "Matched : wow\n"
          ]
        }
      ]
    },
    {
      "cell_type": "code",
      "source": [
        "# finditer\n",
        "ret = re.finditer(r'wow', 'wowowowow')\n",
        "print(type(ret))\n",
        "for t in ret:\n",
        "  print(f\"Matched : {t}\")"
      ],
      "metadata": {
        "colab": {
          "base_uri": "https://localhost:8080/"
        },
        "id": "p24aY2lqksFo",
        "outputId": "d0b053af-e3d5-417b-b191-a35329f7af74"
      },
      "execution_count": null,
      "outputs": [
        {
          "output_type": "stream",
          "name": "stdout",
          "text": [
            "<class 'callable_iterator'>\n",
            "Matched : <re.Match object; span=(0, 3), match='wow'>\n",
            "Matched : <re.Match object; span=(4, 7), match='wow'>\n"
          ]
        }
      ]
    },
    {
      "cell_type": "code",
      "source": [
        "# search\n",
        "pattern = re.compile(r'[a-z]{2}')\n",
        "ret1 = pattern.search('123abc123')\n",
        "ret2 = pattern.search('abcXde')\n",
        "if ret1 : print(f'Matched ret1 : {ret1.group()}')\n",
        "if ret2 : print(f'Matched ret2 : {ret2.group()}')"
      ],
      "metadata": {
        "colab": {
          "base_uri": "https://localhost:8080/"
        },
        "id": "sjPRPRGZlLjA",
        "outputId": "9317477c-7c30-4bda-c2d7-511f397d413e"
      },
      "execution_count": null,
      "outputs": [
        {
          "output_type": "stream",
          "name": "stdout",
          "text": [
            "Matched ret1 : ab\n",
            "Matched ret2 : ab\n"
          ]
        }
      ]
    },
    {
      "cell_type": "code",
      "source": [
        "# match\n",
        "pattern = re.compile(r'[a-z]{2}')\n",
        "ret1 = pattern.match('123abc123')\n",
        "ret2 = pattern.match('abcXde')\n",
        "if ret1 : print(f'Matched ret1 : {ret1.group()}')\n",
        "if ret2 : print(f'Matched ret2 : {ret2.group()}')"
      ],
      "metadata": {
        "colab": {
          "base_uri": "https://localhost:8080/"
        },
        "id": "NdIp3K1XlfY3",
        "outputId": "fbd15655-0a7a-4eea-a635-9dc9f9887e69"
      },
      "execution_count": null,
      "outputs": [
        {
          "output_type": "stream",
          "name": "stdout",
          "text": [
            "Matched ret2 : ab\n"
          ]
        }
      ]
    },
    {
      "cell_type": "code",
      "source": [
        "# fullmatch\n",
        "pattern = re.compile(r'[a-z]{2}')\n",
        "ret1 = pattern.fullmatch('abcd')\n",
        "ret2 = pattern.fullmatch('ab')\n",
        "if ret1 : print(f'Matched ret1 : {ret1.group()}')\n",
        "if ret2 : print(f'Matched ret2 : {ret2.group()}')"
      ],
      "metadata": {
        "colab": {
          "base_uri": "https://localhost:8080/"
        },
        "id": "t6Wgr1ADmQug",
        "outputId": "bee495f4-25b5-46b4-ef2d-0b93f8b4c474"
      },
      "execution_count": null,
      "outputs": [
        {
          "output_type": "stream",
          "name": "stdout",
          "text": [
            "Matched ret2 : ab\n"
          ]
        }
      ]
    },
    {
      "cell_type": "code",
      "source": [
        "# 숫자 1개 이상으로 이루어진 문자열 (숫자만으로 이루어진 문자열)\n",
        "data = ('1', '12', '1234', '12ab34', '12 34')\n",
        "for x in data:\n",
        "  r = re.fullmatch(r'\\d+', x)\n",
        "  print(r)"
      ],
      "metadata": {
        "colab": {
          "base_uri": "https://localhost:8080/"
        },
        "id": "OjsySUO9nwE4",
        "outputId": "6bbaab07-9abc-408a-bc9c-35cfcea9a86f"
      },
      "execution_count": null,
      "outputs": [
        {
          "output_type": "stream",
          "name": "stdout",
          "text": [
            "<re.Match object; span=(0, 1), match='1'>\n",
            "<re.Match object; span=(0, 2), match='12'>\n",
            "<re.Match object; span=(0, 4), match='1234'>\n",
            "None\n",
            "None\n"
          ]
        }
      ]
    },
    {
      "cell_type": "code",
      "source": [
        "# re.sub(패턴, 치환문자열, 문자열): 문자열에서 패턴과 매치하는 텍스트를 치환문자열로 치환함\n",
        "# re.split(패턴, 문자열): 문자열을 패턴 기준으로 분리함\n",
        "  # 문자열 list로 반환, 패턴에 맞는 것이 없으면 문자열을 분리하지 않고 1개 item 으로 취급함"
      ],
      "metadata": {
        "id": "E9mdevrBn9fq"
      },
      "execution_count": null,
      "outputs": []
    },
    {
      "cell_type": "code",
      "source": [
        "import re\n",
        "\n",
        "# 연속된 알파벳 소문자 1개 이상을 X로 치환\n",
        "ret = re.sub('[a-z]+', 'X', 'abc1de2fg3hij')\n",
        "print"
      ],
      "metadata": {
        "colab": {
          "base_uri": "https://localhost:8080/"
        },
        "id": "JHkVEzsso-2_",
        "outputId": "8e905a5c-41b8-4eb3-a7c5-28a7e576aceb"
      },
      "execution_count": null,
      "outputs": [
        {
          "output_type": "stream",
          "name": "stdout",
          "text": [
            "X1X2X3X\n"
          ]
        }
      ]
    },
    {
      "cell_type": "code",
      "source": [
        "# 숫자를 구분자로 하여 문자열 분리\n",
        "ret = re.split(r'\\d', 'abc1de2fg3hij')\n",
        "print(ret)"
      ],
      "metadata": {
        "colab": {
          "base_uri": "https://localhost:8080/"
        },
        "id": "G09a6dYtpjfs",
        "outputId": "0d07d293-1492-4b91-d4d6-8f7c1e5b6d0b"
      },
      "execution_count": null,
      "outputs": [
        {
          "output_type": "stream",
          "name": "stdout",
          "text": [
            "['abc', 'de', 'fg', 'hij']\n"
          ]
        }
      ]
    },
    {
      "cell_type": "code",
      "source": [
        "# Match 객체의 메서드\n",
        "  # mc.group(): 매치되는 텍스트를 string으로 변환하여 반환\n",
        "  # mc.group(번호 or 이름): 그룹 번호에 해당하는 텍스트를 string으로 변환하여 반환\n",
        "    # 그룹 번호는 1부터 시작하여 1씩 증가하는 정수\n",
        "  # mc.group(번호1, 번호...): 여러 개의 그룹을 텍스트로 변환하여 tuple 반환\n",
        "  # mc.groups(): 매치되는 텍스트들을 string으로 변환하여 tuple 반환\n",
        "  # mc.start(): 매치된 텍스트의 시작 위치 반환\n",
        "  # mc.end(): 매치된 텍스트의 마지막 다음 위치 반환\n",
        "  # mc.span(): 매치된 텍스트의 (start, end) 에 해당하는 tuple 반환"
      ],
      "metadata": {
        "id": "QDmWvHhHqLJm"
      },
      "execution_count": null,
      "outputs": []
    },
    {
      "cell_type": "code",
      "source": [
        "import re\n",
        "\n",
        "pattern = re.compile(r'(?P<localcode>\\(\\d{3}\\)) (\\d{3})-(\\d{4})')\n",
        "ret = pattern.search('(031) 234-2345')\n",
        "\n",
        "print(ret.group(1))\n",
        "print(ret.group('localcode'))\n",
        "print(ret.group(2))\n",
        "print(ret.group(3))\n",
        "print(ret.groups())\n",
        "print(ret.group(2, 3))\n",
        "print(ret.group(), ret.start(), ret.end(), ret.span())"
      ],
      "metadata": {
        "colab": {
          "base_uri": "https://localhost:8080/"
        },
        "id": "J9ouKwRPqwZX",
        "outputId": "ed88dd9d-2afd-4857-a256-866cab889b5b"
      },
      "execution_count": null,
      "outputs": [
        {
          "output_type": "stream",
          "name": "stdout",
          "text": [
            "(031)\n",
            "(031)\n",
            "234\n",
            "2345\n",
            "('(031)', '234', '2345')\n",
            "('234', '2345')\n",
            "(031) 234-2345 0 14 (0, 14)\n"
          ]
        }
      ]
    },
    {
      "cell_type": "code",
      "source": [
        "# compile() 의 옵션\n",
        "\n",
        "# re.compile(패턴문자열, 옵션) 과 같이 사용함\n",
        "# re.탐색함수(패턴, 문자열, 옵션) 과 같이 사용함\n",
        "  # 여러 개의 옵션을 동시 적용하기 위해서는 or 연산을 하는 |를 사용함\n",
        "# re.DOTALL, re.S : .메타문자를 \\n을 포함한 글자 1개를 표현할 수 있도록 함\n",
        "# re.IGNORECASE, re.I : 영문 대/소문자를 구분하지 않고 매치 수행\n",
        "# re.MULTILINE, re.M : ^ 및 $ 와 연관 있는 옵션으로, 문자열이 '여러 줄' 인 것을 허용\n",
        "# re.VERBOSE, re.X : 이해 어려운 정규식에 주석 또는 라인 단위로 구분하여 표시할 수 있도록 처리"
      ],
      "metadata": {
        "id": "wb4ETd00ziFn"
      },
      "execution_count": null,
      "outputs": []
    },
    {
      "cell_type": "code",
      "source": [
        "import re\n",
        "\n",
        "pt1 = re.compile(r'.*')\n",
        "pt2 = re.compile(r'.*', re.DOTALL)\n",
        "pt3 = re.compile(r'.*', re.S)\n",
        "for pattern in (pt1, pt2, pt3):\n",
        "  ret = re.search(pattern, 'Good\\nBetter')\n",
        "  print(ret.group())\n",
        "  print('-' * 10)\n",
        "\n",
        "#ret = re.search(r'.*', 'Good\\nBetter', re.DOTALL)"
      ],
      "metadata": {
        "colab": {
          "base_uri": "https://localhost:8080/"
        },
        "id": "jdRa9wYe0C5E",
        "outputId": "cd0c2b03-3618-4e4e-c974-50acc5b7aece"
      },
      "execution_count": 3,
      "outputs": [
        {
          "output_type": "stream",
          "name": "stdout",
          "text": [
            "Good\n",
            "----------\n",
            "Good\n",
            "Better\n",
            "----------\n",
            "Good\n",
            "Better\n",
            "----------\n"
          ]
        }
      ]
    },
    {
      "cell_type": "code",
      "source": [
        "pt1 = re.compile(r'abc')\n",
        "pt2 = re.compile(r'abc', re.IGNORECASE)\n",
        "pt3 = re.compile(r'abc', re.I)\n",
        "for pt in pt1, pt2, pt3:\n",
        "  ret = re.findall(pt, 'abcABCAbC')\n",
        "  print(ret)"
      ],
      "metadata": {
        "colab": {
          "base_uri": "https://localhost:8080/"
        },
        "id": "i-AaQBVAuAqV",
        "outputId": "59c00e9a-0f36-4fec-c352-4390feaf102a"
      },
      "execution_count": 4,
      "outputs": [
        {
          "output_type": "stream",
          "name": "stdout",
          "text": [
            "['abc']\n",
            "['abc', 'ABC', 'AbC']\n",
            "['abc', 'ABC', 'AbC']\n"
          ]
        }
      ]
    },
    {
      "cell_type": "code",
      "source": [
        "msg = 'Good Morning!\\nGood Afternoon!\\nGood Evening!'\n",
        "pt1 = re.compile(r'^G(.*)ing!$')\n",
        "pt2 = re.compile(r'^G(.*)ing!$', re.MULTILINE)\n",
        "pt3 = re.compile(r'^G(.*)ing!$', re.S)\n",
        "\n",
        "ret = re.finditer(pt2, msg)\n",
        "print(*ret, sep='\\n') # argument unpack\n",
        "print(\"DONE!\")"
      ],
      "metadata": {
        "colab": {
          "base_uri": "https://localhost:8080/"
        },
        "id": "RuGvChGiuUYN",
        "outputId": "11d96627-2a8d-4228-8d69-789465301dcb"
      },
      "execution_count": 5,
      "outputs": [
        {
          "output_type": "stream",
          "name": "stdout",
          "text": [
            "<re.Match object; span=(0, 13), match='Good Morning!'>\n",
            "<re.Match object; span=(30, 43), match='Good Evening!'>\n",
            "DONE!\n"
          ]
        }
      ]
    },
    {
      "cell_type": "code",
      "source": [
        "import re\n",
        "\n",
        "phone1 = re.compile(r'\\(\\d{3}\\)\\s?\\d{3}-\\d{4}')\n",
        "\n",
        "phone2 = re.compile(r'''(\n",
        "  \\(\\d{3}\\) # area code\n",
        "  \\s?       # white space (0 or 1)\n",
        "  \\d{3}     # first 3 digits\n",
        "  -         # seperator\n",
        "  \\d{4}     # last 4 digits\n",
        ")''', re.VERBOSE)\n",
        "\n",
        "ret = re.search(phone2, 'Phone: (031) 234-2345')\n",
        "print(ret.group())\n",
        "\n",
        "# re.VERBOSE, re.X : 이해 어려운 정규식에 주석 또는 라인 단위로 구분하여 표시할 수 있도록 처리"
      ],
      "metadata": {
        "colab": {
          "base_uri": "https://localhost:8080/"
        },
        "id": "rKnhizC4wRwq",
        "outputId": "79efcb93-d3b4-49df-b491-3d524770fa8e"
      },
      "execution_count": 9,
      "outputs": [
        {
          "output_type": "stream",
          "name": "stdout",
          "text": [
            "(031) 234-2345\n"
          ]
        }
      ]
    },
    {
      "cell_type": "code",
      "source": [],
      "metadata": {
        "id": "_EgJtOerx7_L"
      },
      "execution_count": null,
      "outputs": []
    }
  ]
}